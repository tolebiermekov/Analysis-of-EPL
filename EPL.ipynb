{
 "cells": [
  {
   "cell_type": "markdown",
   "metadata": {},
   "source": [
    "# Analysis of English Premier League"
   ]
  },
  {
   "cell_type": "markdown",
   "metadata": {},
   "source": [
    "### Content\n",
    "\n",
    " 1. Introduction: English Premier League\n",
    " 2. Data description\n",
    " 3. Research questions\n",
    " 4. Data preparation: cleaning and shaping"
   ]
  },
  {
   "cell_type": "markdown",
   "metadata": {},
   "source": [
    "## 1. Introduction: English Premier League"
   ]
  },
  {
   "cell_type": "markdown",
   "metadata": {},
   "source": [
    "The Premier League, often referred to as the English Premier League or the EPL outside England, is the top level of the English football league system. Contested by 20 clubs, it operates on a system of promotion and relegation with the English Football League (EFL). Seasons run from August to May with each team playing 38 matches (playing all 19 other teams both home and away). Most games are played on Saturday and Sunday afternoons.\n",
    "\n",
    "The competition was founded as the FA Premier League on 20 February 1992 following the decision of clubs in the Football League First Division to break away from the Football League, founded in 1888, and take advantage of a lucrative television rights deal.\n",
    "\n",
    "The Premier League is the most-watched sports league in the world, broadcast in 212 territories to 643 million homes and a potential TV audience of 4.7 billion people. For the 2018–19 season average Premier League match attendance was at 38,181,second to the Bundesliga's 43,500, while aggregated attendance across all matches is the highest of any league at 14,508,981. Most stadium occupancies are near capacity. The Premier League ranks second in the UEFA coefficients of leagues based on performances in European competitions over the past five seasons as of 2019, only behind Spain's La Liga."
   ]
  },
  {
   "cell_type": "markdown",
   "metadata": {},
   "source": [
    "Source(https://en.wikipedia.org/wiki/Premier_League)"
   ]
  },
  {
   "cell_type": "markdown",
   "metadata": {},
   "source": [
    "## 2. Data description "
   ]
  },
  {
   "cell_type": "markdown",
   "metadata": {},
   "source": [
    "According to the intro information about English Premier League (EPL), it is clear that EPL is the one of the most followed football league in the world. There are popular clubs like Manchester United, Manchester City, Liverpool and etc. It is interesting to discover and compare different features of matches.\n",
    "\n",
    "Unfortunately, the season 2019-2020 was not passed as usual due to the coronavirus pandemic. Therefore, I decided to take last two seasons to see complete picture. So, analysis will be based on data of 2018-2019 and 2019-2020 season. Below the data that will be used in analysis:\n",
    "\n",
    "* **Date =** Match Date (dd/mm/yy)\n",
    "* **HomeTeam =** Home Team\n",
    "* **AwayTeam =** Away Team\n",
    "* **FTHG =** Full Time Home Team Goals\n",
    "* **FTAG =** Full Time Away Team Goals\n",
    "* **FTR =** Full Time Result (H=Home Team Win, D=Draw, A=Away Team Win)\n",
    "* **Referee =** Name of the person who judges the match\n",
    "* **HS =** Home Team Shots\n",
    "* **AS =** Away Team Shots\n",
    "* **HST =** Home Team Shots on Target\n",
    "* **AST =** Away Team Shots on Target\n",
    "* **HY =** Home Team Yellow Cards\n",
    "* **AY =** Away Team Yellow Cards\n",
    "* **HR =** Home Team Red Cards\n",
    "* **AR =** Away Team Red Cards\n",
    "* **B365H =** Bet365 home win odds\n",
    "* **B365D =** Bet365 draw odds\n",
    "* **B365A =** Bet365 away win odds"
   ]
  },
  {
   "cell_type": "markdown",
   "metadata": {},
   "source": [
    "## 3. Research questions"
   ]
  },
  {
   "cell_type": "markdown",
   "metadata": {},
   "source": [
    "In this project, mainly I will focus on several parts of data analysis and visualization:\n",
    "1. Analyze performance of clubs over seasons\n",
    "2. Analyze red and yellow cards ratio by referee\n",
    "3. Analyze the number of goals per match by teams and total goals by match outcome\n",
    "4. Analyze the shots needed for teams to score a goal\n",
    "5. Analyze the mean betting odds by match outcome"
   ]
  },
  {
   "cell_type": "markdown",
   "metadata": {},
   "source": [
    "## 4. Data preparation: cleaning and shaping"
   ]
  },
  {
   "cell_type": "markdown",
   "metadata": {},
   "source": [
    "At this part, I have almost ready dataset but I should make some operations with them:\n",
    " * drop columns that will not be used\n",
    " * concatenate two data frames\n",
    " * check for the inconsistencies\n",
    " * add columns"
   ]
  },
  {
   "cell_type": "code",
   "execution_count": 2,
   "metadata": {},
   "outputs": [],
   "source": [
    "#import all libraries\n",
    "import pandas as pd\n",
    "import numpy as np\n",
    "import seaborn as sns \n",
    "import matplotlib.pyplot as plt"
   ]
  },
  {
   "cell_type": "code",
   "execution_count": 6,
   "metadata": {},
   "outputs": [],
   "source": [
    "#import datasets\n",
    "df1 = pd.read_csv(\"england-premier-league-2018-to-2019.csv\")\n",
    "df2 = pd.read_csv(\"england-premier-league-2019-to-2020.csv\")\n",
    "\n",
    "#drop nonessential columns\n",
    "drop = (['Div','HF', 'AF', 'HC', 'AC', 'BWH', 'BWD',\n",
    "       'BWA', 'IWH', 'IWD', 'IWA', 'PSH', 'PSD', 'PSA', 'WHH', 'WHD', 'WHA',\n",
    "       'VCH', 'VCD', 'VCA', 'Bb1X2', 'BbMxH', 'BbAvH', 'BbMxD', 'BbAvD',\n",
    "       'BbMxA', 'BbAvA', 'BbOU', 'BbMx>2.5', 'BbAv>2.5', 'BbMx<2.5',\n",
    "       'BbAv<2.5', 'BbAH', 'BbAHh', 'BbMxAHH', 'BbAvAHH', 'BbMxAHA', 'BbAvAHA',\n",
    "       'PSCH', 'PSCD', 'PSCA','HTHG', 'HTAG', 'HTR'])\n",
    "df1.drop(drop, axis = 'columns', inplace = True)\n",
    "\n",
    "drop = (['Div', 'Time','HF', 'AF', 'HC', 'AC', 'BWH', 'BWD',\n",
    "       'BWA', 'IWH', 'IWD', 'IWA', 'PSH', 'PSD', 'PSA', 'WHH', 'WHD', 'WHA',\n",
    "       'VCH', 'VCD', 'VCA', 'MaxH', 'MaxD', 'MaxA', 'AvgH', 'AvgD',\n",
    "       'AvgA', 'B365>2.5', 'B365<2.5', 'P>2.5', 'P<2.5', 'Max>2.5', 'Max<2.5',\n",
    "       'Avg>2.5', 'Avg<2.5', 'AHh', 'B365AHH', 'B365AHA', 'PAHH', 'PAHA',\n",
    "       'MaxAHH', 'MaxAHA', 'AvgAHH', 'AvgAHA', 'B365CH', 'B365CD', 'B365CA',\n",
    "       'BWCH', 'BWCD', 'BWCA', 'IWCH', 'IWCD', 'IWCA', 'PSCH', 'PSCD', 'PSCA',\n",
    "       'WHCH', 'WHCD', 'WHCA', 'VCCH', 'VCCD', 'VCCA', 'MaxCH', 'MaxCD',\n",
    "       'MaxCA', 'AvgCH', 'AvgCD', 'AvgCA', 'B365C>2.5', 'B365C<2.5', 'PC>2.5',\n",
    "       'PC<2.5', 'MaxC>2.5', 'MaxC<2.5', 'AvgC>2.5', 'AvgC<2.5', 'AHCh',\n",
    "       'B365CAHH', 'B365CAHA', 'PCAHH', 'PCAHA', 'MaxCAHH', 'MaxCAHA',\n",
    "       'AvgCAHH', 'AvgCAHA', 'HTHG', 'HTAG', 'HTR'])\n",
    "df2.drop(drop, axis = 'columns', inplace = True)"
   ]
  },
  {
   "cell_type": "markdown",
   "metadata": {},
   "source": [
    "I dropped from two data frames columns that will not be used in further investigation.\n",
    "\n",
    "Below I concatenated two data frames in order to analyze matches of last 2 seasons."
   ]
  },
  {
   "cell_type": "code",
   "execution_count": 7,
   "metadata": {},
   "outputs": [
    {
     "data": {
      "text/html": [
       "<div>\n",
       "<style scoped>\n",
       "    .dataframe tbody tr th:only-of-type {\n",
       "        vertical-align: middle;\n",
       "    }\n",
       "\n",
       "    .dataframe tbody tr th {\n",
       "        vertical-align: top;\n",
       "    }\n",
       "\n",
       "    .dataframe thead th {\n",
       "        text-align: right;\n",
       "    }\n",
       "</style>\n",
       "<table border=\"1\" class=\"dataframe\">\n",
       "  <thead>\n",
       "    <tr style=\"text-align: right;\">\n",
       "      <th></th>\n",
       "      <th>Date</th>\n",
       "      <th>HomeTeam</th>\n",
       "      <th>AwayTeam</th>\n",
       "      <th>FTHG</th>\n",
       "      <th>FTAG</th>\n",
       "      <th>FTR</th>\n",
       "      <th>Referee</th>\n",
       "      <th>HS</th>\n",
       "      <th>AS</th>\n",
       "      <th>HST</th>\n",
       "      <th>AST</th>\n",
       "      <th>HY</th>\n",
       "      <th>AY</th>\n",
       "      <th>HR</th>\n",
       "      <th>AR</th>\n",
       "      <th>B365H</th>\n",
       "      <th>B365D</th>\n",
       "      <th>B365A</th>\n",
       "    </tr>\n",
       "  </thead>\n",
       "  <tbody>\n",
       "    <tr>\n",
       "      <th>585</th>\n",
       "      <td>01/01/2020</td>\n",
       "      <td>Norwich</td>\n",
       "      <td>Crystal Palace</td>\n",
       "      <td>1</td>\n",
       "      <td>1</td>\n",
       "      <td>D</td>\n",
       "      <td>J Moss</td>\n",
       "      <td>15</td>\n",
       "      <td>12</td>\n",
       "      <td>4</td>\n",
       "      <td>3</td>\n",
       "      <td>5</td>\n",
       "      <td>0</td>\n",
       "      <td>0</td>\n",
       "      <td>0</td>\n",
       "      <td>2.50</td>\n",
       "      <td>3.40</td>\n",
       "      <td>2.75</td>\n",
       "    </tr>\n",
       "    <tr>\n",
       "      <th>586</th>\n",
       "      <td>01/01/2020</td>\n",
       "      <td>West Ham</td>\n",
       "      <td>Bournemouth</td>\n",
       "      <td>4</td>\n",
       "      <td>0</td>\n",
       "      <td>H</td>\n",
       "      <td>G Scott</td>\n",
       "      <td>14</td>\n",
       "      <td>3</td>\n",
       "      <td>7</td>\n",
       "      <td>2</td>\n",
       "      <td>1</td>\n",
       "      <td>2</td>\n",
       "      <td>0</td>\n",
       "      <td>0</td>\n",
       "      <td>1.90</td>\n",
       "      <td>3.75</td>\n",
       "      <td>3.80</td>\n",
       "    </tr>\n",
       "    <tr>\n",
       "      <th>587</th>\n",
       "      <td>01/01/2020</td>\n",
       "      <td>Arsenal</td>\n",
       "      <td>Man United</td>\n",
       "      <td>2</td>\n",
       "      <td>0</td>\n",
       "      <td>H</td>\n",
       "      <td>C Kavanagh</td>\n",
       "      <td>10</td>\n",
       "      <td>10</td>\n",
       "      <td>4</td>\n",
       "      <td>4</td>\n",
       "      <td>2</td>\n",
       "      <td>0</td>\n",
       "      <td>0</td>\n",
       "      <td>0</td>\n",
       "      <td>2.55</td>\n",
       "      <td>3.60</td>\n",
       "      <td>2.62</td>\n",
       "    </tr>\n",
       "  </tbody>\n",
       "</table>\n",
       "</div>"
      ],
      "text/plain": [
       "           Date  HomeTeam        AwayTeam  FTHG  FTAG FTR     Referee  HS  AS  \\\n",
       "585  01/01/2020   Norwich  Crystal Palace     1     1   D      J Moss  15  12   \n",
       "586  01/01/2020  West Ham     Bournemouth     4     0   H     G Scott  14   3   \n",
       "587  01/01/2020   Arsenal      Man United     2     0   H  C Kavanagh  10  10   \n",
       "\n",
       "     HST  AST  HY  AY  HR  AR  B365H  B365D  B365A  \n",
       "585    4    3   5   0   0   0   2.50   3.40   2.75  \n",
       "586    7    2   1   2   0   0   1.90   3.75   3.80  \n",
       "587    4    4   2   0   0   0   2.55   3.60   2.62  "
      ]
     },
     "execution_count": 7,
     "metadata": {},
     "output_type": "execute_result"
    }
   ],
   "source": [
    "#Concatenate data frames\n",
    "frames = [df1, df2]\n",
    "df = pd.concat(frames, axis = 0, join = 'outer', ignore_index = True)\n",
    "df.tail(3)"
   ]
  },
  {
   "cell_type": "code",
   "execution_count": 8,
   "metadata": {
    "scrolled": true
   },
   "outputs": [
    {
     "name": "stdout",
     "output_type": "stream",
     "text": [
      "<class 'pandas.core.frame.DataFrame'>\n",
      "RangeIndex: 588 entries, 0 to 587\n",
      "Data columns (total 18 columns):\n",
      " #   Column    Non-Null Count  Dtype  \n",
      "---  ------    --------------  -----  \n",
      " 0   Date      588 non-null    object \n",
      " 1   HomeTeam  588 non-null    object \n",
      " 2   AwayTeam  588 non-null    object \n",
      " 3   FTHG      588 non-null    int64  \n",
      " 4   FTAG      588 non-null    int64  \n",
      " 5   FTR       588 non-null    object \n",
      " 6   Referee   588 non-null    object \n",
      " 7   HS        588 non-null    int64  \n",
      " 8   AS        588 non-null    int64  \n",
      " 9   HST       588 non-null    int64  \n",
      " 10  AST       588 non-null    int64  \n",
      " 11  HY        588 non-null    int64  \n",
      " 12  AY        588 non-null    int64  \n",
      " 13  HR        588 non-null    int64  \n",
      " 14  AR        588 non-null    int64  \n",
      " 15  B365H     588 non-null    float64\n",
      " 16  B365D     588 non-null    float64\n",
      " 17  B365A     588 non-null    float64\n",
      "dtypes: float64(3), int64(10), object(5)\n",
      "memory usage: 82.8+ KB\n",
      "None\n"
     ]
    }
   ],
   "source": [
    "#Checking for missing values\n",
    "print(df.info())"
   ]
  },
  {
   "cell_type": "markdown",
   "metadata": {},
   "source": [
    "* object(5): date, Home team, Away team, FTR, Referee\n",
    "* float(3): B365H, B365A, B365D\n",
    "* int(10): FTHG, FTAG, HS, AS, HST, AST, HY, AY, HR, AR"
   ]
  },
  {
   "cell_type": "code",
   "execution_count": 9,
   "metadata": {},
   "outputs": [
    {
     "data": {
      "text/plain": [
       "Date        False\n",
       "HomeTeam    False\n",
       "AwayTeam    False\n",
       "FTHG        False\n",
       "FTAG        False\n",
       "FTR         False\n",
       "Referee     False\n",
       "HS          False\n",
       "AS          False\n",
       "HST         False\n",
       "AST         False\n",
       "HY          False\n",
       "AY          False\n",
       "HR          False\n",
       "AR          False\n",
       "B365H       False\n",
       "B365D       False\n",
       "B365A       False\n",
       "dtype: bool"
      ]
     },
     "execution_count": 9,
     "metadata": {},
     "output_type": "execute_result"
    }
   ],
   "source": [
    "df.isnull().any()"
   ]
  },
  {
   "cell_type": "markdown",
   "metadata": {},
   "source": [
    "As it can be seen from the results above, data frame consists of 588 observations and 18 columns. Also there is no null values in any of this columns and type of the columns are proper."
   ]
  },
  {
   "cell_type": "code",
   "execution_count": 28,
   "metadata": {},
   "outputs": [
    {
     "name": "stdout",
     "output_type": "stream",
     "text": [
      "0      False\n",
      "1      False\n",
      "2      False\n",
      "3      False\n",
      "4      False\n",
      "       ...  \n",
      "583    False\n",
      "584    False\n",
      "585    False\n",
      "586    False\n",
      "587    False\n",
      "Length: 588, dtype: bool\n",
      "0\n"
     ]
    }
   ],
   "source": [
    "#checking for duplicates \n",
    "print(df.duplicated())\n",
    "print(df.duplicated().sum())"
   ]
  },
  {
   "cell_type": "markdown",
   "metadata": {},
   "source": [
    "From the results above, I can conclude that there is no any inconsistencies related with data frame."
   ]
  },
  {
   "cell_type": "code",
   "execution_count": 14,
   "metadata": {},
   "outputs": [
    {
     "data": {
      "text/html": [
       "<div>\n",
       "<style scoped>\n",
       "    .dataframe tbody tr th:only-of-type {\n",
       "        vertical-align: middle;\n",
       "    }\n",
       "\n",
       "    .dataframe tbody tr th {\n",
       "        vertical-align: top;\n",
       "    }\n",
       "\n",
       "    .dataframe thead th {\n",
       "        text-align: right;\n",
       "    }\n",
       "</style>\n",
       "<table border=\"1\" class=\"dataframe\">\n",
       "  <thead>\n",
       "    <tr style=\"text-align: right;\">\n",
       "      <th></th>\n",
       "      <th>Date</th>\n",
       "      <th>HomeTeam</th>\n",
       "      <th>AwayTeam</th>\n",
       "      <th>FTHG</th>\n",
       "      <th>FTAG</th>\n",
       "      <th>FTR</th>\n",
       "      <th>Referee</th>\n",
       "      <th>HS</th>\n",
       "      <th>AS</th>\n",
       "      <th>HST</th>\n",
       "      <th>...</th>\n",
       "      <th>HY</th>\n",
       "      <th>AY</th>\n",
       "      <th>HR</th>\n",
       "      <th>AR</th>\n",
       "      <th>B365H</th>\n",
       "      <th>B365D</th>\n",
       "      <th>B365A</th>\n",
       "      <th>TY</th>\n",
       "      <th>TR</th>\n",
       "      <th>TG</th>\n",
       "    </tr>\n",
       "  </thead>\n",
       "  <tbody>\n",
       "    <tr>\n",
       "      <th>0</th>\n",
       "      <td>10/08/2018</td>\n",
       "      <td>Man United</td>\n",
       "      <td>Leicester</td>\n",
       "      <td>2</td>\n",
       "      <td>1</td>\n",
       "      <td>H</td>\n",
       "      <td>A Marriner</td>\n",
       "      <td>8</td>\n",
       "      <td>13</td>\n",
       "      <td>6</td>\n",
       "      <td>...</td>\n",
       "      <td>2</td>\n",
       "      <td>1</td>\n",
       "      <td>0</td>\n",
       "      <td>0</td>\n",
       "      <td>1.57</td>\n",
       "      <td>3.9</td>\n",
       "      <td>7.5</td>\n",
       "      <td>3</td>\n",
       "      <td>0</td>\n",
       "      <td>3</td>\n",
       "    </tr>\n",
       "    <tr>\n",
       "      <th>1</th>\n",
       "      <td>11/08/2018</td>\n",
       "      <td>Bournemouth</td>\n",
       "      <td>Cardiff</td>\n",
       "      <td>2</td>\n",
       "      <td>0</td>\n",
       "      <td>H</td>\n",
       "      <td>K Friend</td>\n",
       "      <td>12</td>\n",
       "      <td>10</td>\n",
       "      <td>4</td>\n",
       "      <td>...</td>\n",
       "      <td>1</td>\n",
       "      <td>1</td>\n",
       "      <td>0</td>\n",
       "      <td>0</td>\n",
       "      <td>1.90</td>\n",
       "      <td>3.6</td>\n",
       "      <td>4.5</td>\n",
       "      <td>2</td>\n",
       "      <td>0</td>\n",
       "      <td>2</td>\n",
       "    </tr>\n",
       "  </tbody>\n",
       "</table>\n",
       "<p>2 rows × 21 columns</p>\n",
       "</div>"
      ],
      "text/plain": [
       "         Date     HomeTeam   AwayTeam  FTHG  FTAG FTR     Referee  HS  AS  \\\n",
       "0  10/08/2018   Man United  Leicester     2     1   H  A Marriner   8  13   \n",
       "1  11/08/2018  Bournemouth    Cardiff     2     0   H    K Friend  12  10   \n",
       "\n",
       "   HST  ...  HY  AY  HR  AR  B365H  B365D  B365A  TY  TR  TG  \n",
       "0    6  ...   2   1   0   0   1.57    3.9    7.5   3   0   3  \n",
       "1    4  ...   1   1   0   0   1.90    3.6    4.5   2   0   2  \n",
       "\n",
       "[2 rows x 21 columns]"
      ]
     },
     "execution_count": 14,
     "metadata": {},
     "output_type": "execute_result"
    }
   ],
   "source": [
    "#add columns since it will be useful later\n",
    "\n",
    "#total yellow card in match\n",
    "df['TY'] = df['HY'] + df['AY']\n",
    "\n",
    "#total red card in match\n",
    "df['TR'] = df['HR'] + df['AR']\n",
    "\n",
    "#total goals scored in match\n",
    "df['TG'] = df['FTHG'] + df['FTAG']\n",
    "\n",
    "#check\n",
    "df.head(2)"
   ]
  },
  {
   "cell_type": "markdown",
   "metadata": {},
   "source": [
    "I added some columns which may give me more insights in data visualization part."
   ]
  }
 ],
 "metadata": {
  "kernelspec": {
   "display_name": "Python 3",
   "language": "python",
   "name": "python3"
  },
  "language_info": {
   "codemirror_mode": {
    "name": "ipython",
    "version": 3
   },
   "file_extension": ".py",
   "mimetype": "text/x-python",
   "name": "python",
   "nbconvert_exporter": "python",
   "pygments_lexer": "ipython3",
   "version": "3.7.4"
  }
 },
 "nbformat": 4,
 "nbformat_minor": 2
}
